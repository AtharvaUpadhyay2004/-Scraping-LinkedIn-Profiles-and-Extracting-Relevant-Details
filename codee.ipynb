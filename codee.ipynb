{
 "cells": [
  {
   "cell_type": "code",
   "execution_count": null,
   "metadata": {},
   "outputs": [],
   "source": [
    "import os\n",
    "from bs4 import BeautifulSoup\n",
    "\n",
    "# Specify the directory containing the downloaded HTML files\n",
    "html_directory = 'path/to/your/html/files'\n",
    "\n",
    "def extract_details(html_file):\n",
    "    with open(html_file, 'r', encoding='utf-8') as file:\n",
    "        content = file.read()\n",
    "\n",
    "    soup = BeautifulSoup(content, 'html.parser')\n",
    "\n",
    "    education_section = soup.find('section', {'id': 'education-section'})\n",
    "    education_details = []\n",
    "    if education_section:\n",
    "        for education_item in education_section.find_all('li'):\n",
    "            education_details.append(education_item.get_text(strip=True))"
   ]
  },
  {
   "cell_type": "code",
   "execution_count": null,
   "metadata": {},
   "outputs": [],
   "source": [
    " # Extract experience details\n",
    "    experience_section = soup.find('section', {'id': 'experience-section'})\n",
    "    experience_details = []\n",
    "    if experience_section:\n",
    "        for experience_item in experience_section.find_all('li', {'class': 'pv-entity__position-group-pager'}):\n",
    "            role = experience_item.find('h3').get_text(strip=True)\n",
    "            company = experience_item.find('p', {'class': 'pv-entity__secondary-title'}).get_text(strip=True)\n",
    "            experience_details.append({'role': role, 'company': company})\n",
    "\n",
    "    return {'education': education_details, 'experience': experience_details}"
   ]
  },
  {
   "cell_type": "code",
   "execution_count": null,
   "metadata": {},
   "outputs": [],
   "source": [
    "for filename in os.listdir(html_directory):\n",
    "    if filename.endswith('.html'):\n",
    "        file_path = os.path.join(html_directory, filename)\n",
    "        profile_details = extract_details(file_path)\n",
    "        print(f\"Profile: {filename}\")\n",
    "        print(f\"Educational Details: {profile_details['education']}\")\n",
    "        print(f\"Experience Details: {profile_details['experience']}\")\n",
    "        print()"
   ]
  }
 ],
 "metadata": {
  "language_info": {
   "name": "python"
  },
  "orig_nbformat": 4
 },
 "nbformat": 4,
 "nbformat_minor": 2
}
